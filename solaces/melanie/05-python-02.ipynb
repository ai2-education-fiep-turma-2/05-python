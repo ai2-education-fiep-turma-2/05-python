{
 "cells": [
  {
   "cell_type": "markdown",
   "metadata": {},
   "source": [
    "### 1) Escreva um programa que, dados 2 números diferentes (a e b), encontre o menor deles."
   ]
  },
  {
   "cell_type": "code",
   "execution_count": 19,
   "metadata": {},
   "outputs": [
    {
     "name": "stdout",
     "output_type": "stream",
     "text": [
      "Ingresse um número a: 9\n",
      "Ingresse um número b: 9\n",
      "a e b são iguais\n"
     ]
    }
   ],
   "source": [
    "a=input(\"Ingresse um número a: \")\n",
    "b=input(\"Ingresse um número b: \")\n",
    "\n",
    "if (a<b):\n",
    "    print(f'{a} é o menor')\n",
    "elif (a==b):\n",
    "    print(f'a e b são iguais')\n",
    "else:\n",
    "    print(f'{b} é o menor')"
   ]
  },
  {
   "cell_type": "markdown",
   "metadata": {},
   "source": [
    "### 2)\n",
    "Para doar sangue é necessário:    \n",
    "* Ter entre 16 e 69 anos.\n",
    "* Pesar mais de 50 kg.\n",
    "* Estar descansado (ter dormido pelo menos 6 horas nas últimas 24 horas).   \n",
    "\n",
    "Faça um programa que pergunte a idade, o peso e quanto dormiu nas últimas 24 h para uma pessoa e diga se ela pode doar sangue ou não."
   ]
  },
  {
   "cell_type": "code",
   "execution_count": 26,
   "metadata": {},
   "outputs": [
    {
     "name": "stdout",
     "output_type": "stream",
     "text": [
      "Digite sua idade:\n",
      "49\n",
      "Digite seu peso:\n",
      "12\n",
      "Você durmiou mais que 6 horas? s/n\n",
      "n\n",
      "Você não pode doar sangue\n"
     ]
    }
   ],
   "source": [
    "print('Digite sua idade:')\n",
    "idade=int(input())\n",
    "print('Digite seu peso:')\n",
    "peso=float(input())\n",
    "print('Você durmiou mais que 6 horas? s/n')\n",
    "sono=input()\n",
    "\n",
    "if (idade>=16 and idade<=69 and peso>50 and sono=='s'):\n",
    "    print('Você pode doar sangue')\n",
    "else:\n",
    "    print('Você não pode doar sangue')"
   ]
  },
  {
   "cell_type": "code",
   "execution_count": null,
   "metadata": {},
   "outputs": [],
   "source": []
  }
 ],
 "metadata": {
  "kernelspec": {
   "display_name": "Python 3",
   "language": "python",
   "name": "python3"
  },
  "language_info": {
   "codemirror_mode": {
    "name": "ipython",
    "version": 3
   },
   "file_extension": ".py",
   "mimetype": "text/x-python",
   "name": "python",
   "nbconvert_exporter": "python",
   "pygments_lexer": "ipython3",
   "version": "3.8.3"
  }
 },
 "nbformat": 4,
 "nbformat_minor": 4
}
