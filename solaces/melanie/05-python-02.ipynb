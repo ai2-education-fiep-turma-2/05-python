{
 "cells": [
  {
   "cell_type": "markdown",
   "metadata": {},
   "source": [
    "### 1) Escreva um programa que, dados 2 números diferentes (a e b), encontre o menor deles."
   ]
  },
  {
   "cell_type": "code",
   "execution_count": null,
   "metadata": {},
   "outputs": [],
   "source": [
    "a=input(\"Ingresse um número a: \")\n",
    "b=input(\"Ingresse um número b: \")\n",
    "\n",
    "if (a<b):\n",
    "    print(f'{a} é o menor')\n",
    "elif (a==b):\n",
    "    print(f'a e b são iguais')\n",
    "else:\n",
    "    print(f'{b} é o menor')"
   ]
  },
  {
   "cell_type": "markdown",
   "metadata": {},
   "source": [
    "### 2)\n",
    "Para doar sangue é necessário:    \n",
    "* Ter entre 16 e 69 anos.\n",
    "* Pesar mais de 50 kg.\n",
    "* Estar descansado (ter dormido pelo menos 6 horas nas últimas 24 horas).   \n",
    "\n",
    "Faça um programa que pergunte a idade, o peso e quanto dormiu nas últimas 24 h para uma pessoa e diga se ela pode doar sangue ou não."
   ]
  },
  {
   "cell_type": "code",
   "execution_count": null,
   "metadata": {},
   "outputs": [],
   "source": [
    "print('Digite sua idade:')\n",
    "idade=int(input())\n",
    "print('Digite seu peso:')\n",
    "peso=float(input())\n",
    "print('Quantas horas você durmiu?')\n",
    "sono=int(input())\n",
    "\n",
    "if (idade>=16 and idade<=69 and peso>50 and sono>6):\n",
    "    print('Você pode doar sangue')\n",
    "else:\n",
    "    print('Você não pode doar sangue')"
   ]
  },
  {
   "cell_type": "markdown",
   "metadata": {},
   "source": [
    "## 3)\n",
    "Considere uma equação do segundo grau f(x)=a⋅x2+b⋅x+c. A partir dos coeficientes, determine se a equação possui duas raízes reais, uma, ou se não possui."
   ]
  },
  {
   "cell_type": "code",
   "execution_count": null,
   "metadata": {},
   "outputs": [],
   "source": [
    "print('Considerando a equação de segundo grau f(x)=ax²+bx+c: \\n')\n",
    "\n",
    "print('Ingresse o coeficiente \"a\":')\n",
    "a=int(input())\n",
    "print('Ingresse o coeficiente \"b\":')\n",
    "b=int(input())\n",
    "print('Ingresse o coeficiente \"c\":')\n",
    "c=int(input())\n",
    "\n",
    "delta = b ** 2 - 4 * a * c\n",
    "print(f'Delta = {delta}')\n",
    "\n",
    "if delta>0:\n",
    "    print('A equação possui duas raízes reais.')\n",
    "elif delta == 0:\n",
    "    print('A equação possui duas raízes reais iguais.')\n",
    "else:\n",
    "    print('\\nA equação não possui raízes reais')\n"
   ]
  },
  {
   "cell_type": "markdown",
   "metadata": {},
   "source": [
    "## 4)\n",
    "Leia dois números e efetue a adição. Caso o valor somado seja maior que 20, este deverá ser apresentado somando-se a ele mais 8; caso o valor somado seja menor ou igual a 20, este deverá ser apresentado subtraindo-se 5."
   ]
  },
  {
   "cell_type": "code",
   "execution_count": null,
   "metadata": {},
   "outputs": [],
   "source": [
    "print('Ingresse um número \"n1\":')\n",
    "n1=int(input())\n",
    "print('Ingresse um número \"n2\":')\n",
    "n2=int(input())\n",
    "\n",
    "soma = n1 + n2\n",
    "\n",
    "if soma > 20:\n",
    "    print(f'\\nResultado: {soma+8}')\n",
    "else:\n",
    "    print(f'\\nResultado: {soma-5}')"
   ]
  },
  {
   "cell_type": "markdown",
   "metadata": {},
   "source": [
    "## 5)\n",
    "Leia um número e imprima a raiz quadrada do número caso ele seja positivo ou igual a zero e o quadrado do número caso ele seja negativo.\n"
   ]
  },
  {
   "cell_type": "code",
   "execution_count": null,
   "metadata": {},
   "outputs": [],
   "source": [
    "import math\n",
    "num = float(input(\"Entre com um número:\\n\"))\n",
    "\n",
    "if num >= 0:\n",
    "    raiz = math.sqrt(num)\n",
    "    print(f'\\nA raiz quadrada de {num} é {raiz}\\n')\n",
    "else:\n",
    "    quadrado = num ** 2\n",
    "    print(f'\\nO quadrado de {num} é {quadrado}\\n')\n",
    "    "
   ]
  },
  {
   "cell_type": "markdown",
   "metadata": {},
   "source": [
    "## 6) \n",
    "Escreva uma funcão para verificar a velocidade de motoristas. Essa funcão deve ter um parametro: \\`speed\\`. \n",
    "\n",
    "    1.  Se speed menor que 70, deve imprimir “Ok”.    \n",
    "    2.  Case contrário, para cada 5km/h acima do limite (70), o radar deve aplicar um ponto na carteira do motorista, imprimindo quantos pontos foram retirados. Por exemplo, se speed é 80, Deve imprimir: “Pontos: 2”.    \n",
    "    3.  Se o motorista tomar mais que 12 pontos, a funcão deve imprimir: “Licen suspended”"
   ]
  },
  {
   "cell_type": "code",
   "execution_count": null,
   "metadata": {
    "scrolled": true
   },
   "outputs": [],
   "source": [
    "def velocidade(speed):\n",
    "    if speed < 70:\n",
    "        print('Ok')\n",
    "    else:\n",
    "        pontos = (speed-70)/5     \n",
    "        print(f'Pontos aplicados: {pontos}')\n",
    "        if pontos > 12:\n",
    "            print('Licence suspended')\n",
    "\n",
    "vel = float(input('Ingresse a velocidade em km/h: '))\n",
    "velocidade(vel)\n"
   ]
  },
  {
   "cell_type": "markdown",
   "metadata": {},
   "source": [
    "## 7)\n",
    "Leia um número inteiro entre 1 e 12 e escreva o mês correspondente. Caso o usuário digite um número fora desse intervalo, deverá aparecer uma mensagem informando que não existe mês com este número."
   ]
  },
  {
   "cell_type": "code",
   "execution_count": null,
   "metadata": {},
   "outputs": [],
   "source": [
    "mes = int(input('Ingresse o número do mêS: '))\n",
    "\n",
    "if mes == 1 :\n",
    "    print('Janeiro')\n",
    "elif mes ==2 :\n",
    "    print('Fevereiro')\n",
    "elif mes ==3 :\n",
    "    print('Março')    \n",
    "elif mes ==4:\n",
    "    print('Avril')\n",
    "elif mes ==5:\n",
    "    print('Maio')    \n",
    "elif mes ==6:\n",
    "    print('Junho')    \n",
    "elif mes ==8:\n",
    "    print('Agosto')    \n",
    "elif mes ==9:\n",
    "    print('Setembro')    \n",
    "elif mes ==10:\n",
    "    print('Outubro')    \n",
    "elif mes ==11:\n",
    "    print('Novembro')    \n",
    "elif mes ==12:\n",
    "    print('Dezembro')    \n",
    "else:\n",
    "    print('Não existe mês com esse número.')"
   ]
  },
  {
   "cell_type": "markdown",
   "metadata": {},
   "source": [
    "## 8)  \n",
    "Escreva uma funcão `show_stars(rows)`. Se `rows` for 5, deve-se imprimir o seguinte:    \n",
    "    ```\n",
    "    *\n",
    "    **\n",
    "    ***\n",
    "    ****\n",
    "    *****\n",
    "    ```"
   ]
  },
  {
   "cell_type": "code",
   "execution_count": null,
   "metadata": {},
   "outputs": [],
   "source": [
    "def show_stars(rows):\n",
    "    \n",
    "    for i in range(rows+1):\n",
    "        print(i * '*')\n",
    "    \n",
    "    \n",
    "lineas = int(input('Ingresse o númeor de linhas: '))\n",
    "show_stars(lineas)"
   ]
  },
  {
   "cell_type": "markdown",
   "metadata": {},
   "source": [
    "## 9)  \n",
    "Escreva uma funcão chamada `showNumbers`, que recebe o parâmetro `limit.` A funcão deve imprimir todos os números entre 0 e limit com uma label para identificar se o número é par ou ímpar.\n",
    "Por exemplo, se o limite for 3, deve-se imprimir:    \n",
    "    *   0 PAR    \n",
    "    *   1 IMPAR    \n",
    "    *   2 PAR    \n",
    "    *   3 IMPAR    "
   ]
  },
  {
   "cell_type": "code",
   "execution_count": null,
   "metadata": {
    "scrolled": true
   },
   "outputs": [],
   "source": [
    "def showNumbers(limit):\n",
    "    for n in range(limit+1):\n",
    "        if n%2 == 0:\n",
    "            print(f'{n} PAR')\n",
    "        else:\n",
    "            print(f'{n} IMPAR')\n",
    "\n",
    "limit = int(input('Ingresse um número: '))\n",
    "showNumbers(limit)\n",
    "            \n",
    "        "
   ]
  },
  {
   "cell_type": "markdown",
   "metadata": {},
   "source": [
    "## 10) \n",
    "Escreva uma funcào que retorna a soma de múltiplos de 3 e 5 entre 0 e `limit` (parâmetro). Por exemplo, se limite for 20, deve retornar a soma de 3, 5, 6, 9, 10, 12, 15, 18, 20."
   ]
  },
  {
   "cell_type": "code",
   "execution_count": null,
   "metadata": {
    "scrolled": true
   },
   "outputs": [],
   "source": [
    "def soma_multiplos(limit):\n",
    "    soma=0\n",
    "    for n in range(limit+1):\n",
    "        if n%3 == 0 or n%5 == 0:\n",
    "            soma += n\n",
    "    print(soma)\n",
    "\n",
    "limit = int(input('Ingresse o limite: '))\n",
    "soma_multiplos(limit)\n",
    "            "
   ]
  },
  {
   "cell_type": "markdown",
   "metadata": {},
   "source": [
    "## 11)\n",
    "Escreva uma funcão que imprima todos os números PRIMOS entre 0 e`limit` (um parâmetro)."
   ]
  },
  {
   "cell_type": "code",
   "execution_count": null,
   "metadata": {},
   "outputs": [],
   "source": [
    "#FUNCIONA OK\n",
    "\n",
    "def imprime(limite):\n",
    "    for n in range(2,limite+1):\n",
    "        teste=True\n",
    "        for i in range(2,n):\n",
    "            if(n%i==0):\n",
    "                teste=False\n",
    "        if teste:\n",
    "            print(n)\n",
    "\n",
    "limite = int(input('Ingresse o limite: '))\n",
    "imprime(limite)"
   ]
  },
  {
   "cell_type": "code",
   "execution_count": null,
   "metadata": {},
   "outputs": [],
   "source": [
    "#NÃO FUNCIONA, PQ?\n",
    "def imprime(limit):\n",
    "    print(f'1')\n",
    "    for n in range(1,limit):\n",
    "        for i in range(2,n):\n",
    "            if (n%i == 0):\n",
    "                break\n",
    "            else:\n",
    "                print(n)\n",
    "                break\n",
    "    \n",
    "limit = int(input('Ingresse o limite: '))\n",
    "imprime(limit)"
   ]
  },
  {
   "cell_type": "markdown",
   "metadata": {},
   "source": [
    "## 12)\n",
    "O python tem uma implementacão padrão de uma funcão ``sum`` para achar a soma dos elementos de uma lista, faca sua própria implementacão da funcão\n",
    "```\n",
    "    >>> sum([1, 2, 3])\n",
    "    >>> 6\n",
    "```"
   ]
  },
  {
   "cell_type": "code",
   "execution_count": null,
   "metadata": {},
   "outputs": [],
   "source": [
    "def soma_lista(lista):\n",
    "    soma = 0\n",
    "    for x in lista:\n",
    "        soma += x\n",
    "    print(soma)\n",
    "    \n",
    "lista = [2, 9, 7, 3, 6]\n",
    "soma_lista(lista)"
   ]
  },
  {
   "cell_type": "markdown",
   "metadata": {},
   "source": [
    "## 13) \n",
    "O que acontece quando a sua funcão ``sum`` é chamaca com uma lista de strings? Voce consegue fazer a sua funcao funcionar com strings também?\n",
    "\n",
    "```\n",
    "    >>> sum([\"hello\", \"world\"])\n",
    "    \"helloworld\"\n",
    "    >>> sum([\"aa\", \"bb\", \"cc\"])\n",
    "    \"aabbcc\"\n",
    "```"
   ]
  },
  {
   "cell_type": "code",
   "execution_count": null,
   "metadata": {},
   "outputs": [],
   "source": [
    "# USANDO MINHA FUNÇÃO: unsupported operand type(s) for +=: 'int' and 'str'\n",
    "# Foi necessário trocar o \"soma = 0\" por soma = '', para assim evitar somar int e str\n",
    "\n",
    "def soma_lista(lista):\n",
    "    soma = ''\n",
    "    for x in lista:\n",
    "        soma += x\n",
    "    print(soma)\n",
    "    \n",
    "lista = ['yo', 'soy', 'melanie', 'y', 'vos']\n",
    "soma_lista(lista)"
   ]
  },
  {
   "cell_type": "markdown",
   "metadata": {},
   "source": [
    "## 14)\n",
    "Implemente uma funcão ``product``, para computar o produto de uma lista de números.\n",
    "\n",
    "```\n",
    "    >>> product([1, 2, 3])\n",
    "    6\n",
    "```"
   ]
  },
  {
   "cell_type": "code",
   "execution_count": null,
   "metadata": {},
   "outputs": [],
   "source": [
    "def product(lista):\n",
    "    produto = 1\n",
    "    for i in lista:\n",
    "        produto *= i\n",
    "    print(produto)\n",
    "    \n",
    "lista = [9, 2, 6, 7, 3]\n",
    "product(lista)"
   ]
  },
  {
   "cell_type": "markdown",
   "metadata": {},
   "source": [
    "## 15) \n",
    "\n",
    "Implemente uma funcão que calcula o fatorial de um número:\n",
    "\n",
    "```\n",
    "    >>> factorial(4)\n",
    "    24\n",
    "```"
   ]
  },
  {
   "cell_type": "code",
   "execution_count": null,
   "metadata": {},
   "outputs": [],
   "source": [
    "def fatorial(n):\n",
    "    lista = []\n",
    "    for i in range(1,n+1):\n",
    "        lista.append(i)\n",
    "    print(lista)\n",
    "    \n",
    "    produto = 1\n",
    "    for n in lista:\n",
    "        produto *= n\n",
    "    return produto \n",
    "\n",
    "n = int(input('Ingresse o valor n: '))\n",
    "fatorial(n)        "
   ]
  },
  {
   "cell_type": "markdown",
   "metadata": {},
   "source": [
    "## 16)\n",
    "\n",
    "Escreva um programa ``reverse.py`` para imprimir linhas de um arquivo na ordem inversa.\n",
    "\n",
    "``` \n",
    "      $ cat she.txt\n",
    "      She sells seashells on the seashore;\n",
    "      The shells that she sells are seashells I'm sure.\n",
    "      So if she sells seashells on the seashore,\n",
    "      I'm sure that the shells are seashore shells.\n",
    "\n",
    "      $ python reverse.py she.txt\n",
    "      I'm sure that the shells are seashore shells.\n",
    "      So if she sells seashells on the seashore,\n",
    "      The shells that she sells are seashells I'm sure.\n",
    "      She sells seashells on the seashore;\n",
    "```\n",
    "https://raccoon.ninja/pt/dev-pt/extrair-apenas-certas-linhas-de-um-arquivo-texto-python-powershell/"
   ]
  },
  {
   "cell_type": "code",
   "execution_count": 2,
   "metadata": {
    "scrolled": false
   },
   "outputs": [],
   "source": [
    "f = open('ex_16.txt', 'r')\n",
    "lines=f.readlines()\n",
    "lines_found\n",
    "f.close()\n",
    "\n",
    "f = open('ex_16.txt', 'w')\n"
   ]
  },
  {
   "cell_type": "code",
   "execution_count": null,
   "metadata": {},
   "outputs": [],
   "source": [
    "\n",
    "for line in f:\n",
    "    primeira_linha = f.readline()\n",
    "    segunda_linha = f.readline()\n",
    "    "
   ]
  },
  {
   "cell_type": "code",
   "execution_count": 4,
   "metadata": {},
   "outputs": [
    {
     "name": "stdout",
     "output_type": "stream",
     "text": [
      "Digite o nome do arquivo de entrada: ex_16.txt\n",
      "She sells seashells on the seashore;\n",
      "\n",
      "The shells that she sells are seashells I'm sure.\n",
      "\n",
      "So if she sells seashells on the seashore,\n",
      "\n",
      "I'm sure that the shells are seashore shells.\n",
      "\n"
     ]
    }
   ],
   "source": [
    "# filename = ex_16.txt\n",
    "filename = input('Digite o nome do arquivo de entrada: ')\n",
    "file = open(filename, 'r')\n",
    "\n",
    "for line in file:\n",
    "    x = line\n",
    "    file = open(filename, 'w')\n",
    "    file.writelines(x)\n",
    "    print(line)\n",
    "\n",
    "\n",
    "    \n",
    "    \n",
    "inputFile.close()\n",
    "\n",
    "\n"
   ]
  },
  {
   "cell_type": "code",
   "execution_count": null,
   "metadata": {},
   "outputs": [],
   "source": []
  }
 ],
 "metadata": {
  "kernelspec": {
   "display_name": "Python 3",
   "language": "python",
   "name": "python3"
  },
  "language_info": {
   "codemirror_mode": {
    "name": "ipython",
    "version": 3
   },
   "file_extension": ".py",
   "mimetype": "text/x-python",
   "name": "python",
   "nbconvert_exporter": "python",
   "pygments_lexer": "ipython3",
   "version": "3.8.3"
  }
 },
 "nbformat": 4,
 "nbformat_minor": 4
}
