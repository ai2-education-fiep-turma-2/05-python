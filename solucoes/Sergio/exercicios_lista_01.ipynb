{
 "cells": [
  {
   "cell_type": "code",
   "execution_count": 1,
   "metadata": {},
   "outputs": [
    {
     "data": {
      "text/plain": [
       "5"
      ]
     },
     "execution_count": 1,
     "metadata": {},
     "output_type": "execute_result"
    }
   ],
   "source": [
    "#1\n",
    "2+3"
   ]
  },
  {
   "cell_type": "code",
   "execution_count": 2,
   "metadata": {},
   "outputs": [
    {
     "name": "stdout",
     "output_type": "stream",
     "text": [
      "Hello World\n",
      "Hello World\n",
      "Hello World\n",
      "Hello World\n"
     ]
    }
   ],
   "source": [
    "#2\n",
    "print (\"Hello World\")\n",
    "print (\"Hello World\")\n",
    "print (\"Hello World\")\n",
    "print (\"Hello World\")"
   ]
  },
  {
   "cell_type": "code",
   "execution_count": 3,
   "metadata": {},
   "outputs": [
    {
     "name": "stdout",
     "output_type": "stream",
     "text": [
      "``` ​ 1 + 2 ```\n"
     ]
    }
   ],
   "source": [
    "#3. Precisava de aspas\n",
    "print(\"``` ​ 1 + 2 ```\")"
   ]
  },
  {
   "cell_type": "code",
   "execution_count": 4,
   "metadata": {},
   "outputs": [
    {
     "name": "stdout",
     "output_type": "stream",
     "text": [
      "2 5\n"
     ]
    }
   ],
   "source": [
    "#4 \n",
    "x = 4\n",
    "y = x + 1\n",
    "x = 2\n",
    "print(x, y)"
   ]
  },
  {
   "cell_type": "code",
   "execution_count": 5,
   "metadata": {},
   "outputs": [
    {
     "name": "stdout",
     "output_type": "stream",
     "text": [
      "6 4\n"
     ]
    }
   ],
   "source": [
    "#5\n",
    "x, y = 2, 6\n",
    "x, y = y, x + 2\n",
    "print(x, y)"
   ]
  },
  {
   "cell_type": "code",
   "execution_count": 6,
   "metadata": {},
   "outputs": [
    {
     "name": "stdout",
     "output_type": "stream",
     "text": [
      "2 1 2\n"
     ]
    }
   ],
   "source": [
    "#6 tem que declarar c primeiro pra dps usar\n",
    "c = 0\n",
    "a, b = 2, 3\n",
    "c, b = a, c + 1\n",
    "print(a, b, c)"
   ]
  },
  {
   "cell_type": "code",
   "execution_count": 7,
   "metadata": {},
   "outputs": [
    {
     "name": "stdout",
     "output_type": "stream",
     "text": [
      "25\n",
      "100\n"
     ]
    }
   ],
   "source": [
    "numcalls = 0\n",
    "def square(x):\n",
    "    global numcalls\n",
    "    numcalls = numcalls + 1\n",
    "    return x * x\n",
    "\n",
    "print(square(5))\n",
    "print(square(2*5))"
   ]
  },
  {
   "cell_type": "code",
   "execution_count": 8,
   "metadata": {},
   "outputs": [
    {
     "name": "stdout",
     "output_type": "stream",
     "text": [
      "1\n",
      "1\n"
     ]
    }
   ],
   "source": [
    "x = 1\n",
    "def f():\n",
    "    return x\n",
    "\n",
    "print(x)\n",
    "print(f())"
   ]
  },
  {
   "cell_type": "code",
   "execution_count": 9,
   "metadata": {},
   "outputs": [
    {
     "name": "stdout",
     "output_type": "stream",
     "text": [
      "1\n",
      "2\n",
      "1\n"
     ]
    }
   ],
   "source": [
    "x = 1\n",
    "def f():\n",
    "    x = 2\n",
    "    return x\n",
    "print(x)\n",
    "print(f())\n",
    "print(x)"
   ]
  },
  {
   "cell_type": "code",
   "execution_count": 10,
   "metadata": {},
   "outputs": [
    {
     "name": "stdout",
     "output_type": "stream",
     "text": [
      "1\n",
      "3\n",
      "1\n"
     ]
    }
   ],
   "source": [
    "x = 1\n",
    "def f():\n",
    "    #Não identifica o x global, assim precisando de uma declaração de x antes de ser usado\n",
    "    x = 1\n",
    "    y = x\n",
    "    x = 2\n",
    "    return x + y\n",
    "\n",
    "print(x)\n",
    "print(f())\n",
    "print(x)"
   ]
  },
  {
   "cell_type": "code",
   "execution_count": 11,
   "metadata": {},
   "outputs": [
    {
     "name": "stdout",
     "output_type": "stream",
     "text": [
      "2 9\n"
     ]
    }
   ],
   "source": [
    "x = 2\n",
    "def f(a):\n",
    "    x = a * a\n",
    "    return x\n",
    "y = f(3)\n",
    "print(x, y)"
   ]
  },
  {
   "cell_type": "code",
   "execution_count": 12,
   "metadata": {},
   "outputs": [
    {
     "name": "stdout",
     "output_type": "stream",
     "text": [
      "Digite um número e aperte [Enter]: 59193421\n",
      "8\n"
     ]
    }
   ],
   "source": [
    "def count_digits(x):\n",
    "    print(len(str(x)))\n",
    "\n",
    "count_digits(int(input(\"Digite um número e aperte [Enter]: \")))"
   ]
  },
  {
   "cell_type": "code",
   "execution_count": 13,
   "metadata": {},
   "outputs": [
    {
     "name": "stdout",
     "output_type": "stream",
     "text": [
      "Digite uma palavra e aperte [Enter]: dois\n",
      "Digite uma palavra e aperte [Enter]: dois\n",
      "True\n"
     ]
    }
   ],
   "source": [
    "def istrcmp(string_1, string_2):\n",
    "    if ( string_1.lower() == string_2.lower() ):\n",
    "        print(True)\n",
    "    else:\n",
    "        print(False)\n",
    "\n",
    "\n",
    "string_1 = input(\"Digite uma palavra e aperte [Enter]: \")\n",
    "string_2 = input(\"Digite uma palavra e aperte [Enter]: \")\n",
    "istrcmp(string_1,string_2)"
   ]
  },
  {
   "cell_type": "code",
   "execution_count": 14,
   "metadata": {},
   "outputs": [
    {
     "name": "stdout",
     "output_type": "stream",
     "text": [
      "True\n",
      "True\n",
      "True\n",
      "False\n"
     ]
    }
   ],
   "source": [
    "print(2 < 3 and 3 > 1)\n",
    "print(2 < 3 or 3 > 1)\n",
    "print(2 < 3 or not 3 > 1)\n",
    "print(2 < 3 and not 3 > 1)"
   ]
  },
  {
   "cell_type": "code",
   "execution_count": 15,
   "metadata": {},
   "outputs": [
    {
     "name": "stdout",
     "output_type": "stream",
     "text": [
      "True\n"
     ]
    }
   ],
   "source": [
    "x = 4\n",
    "y = 5\n",
    "p = x < y or x < z\n",
    "print(p)"
   ]
  },
  {
   "cell_type": "code",
   "execution_count": 16,
   "metadata": {},
   "outputs": [
    {
     "name": "stdout",
     "output_type": "stream",
     "text": [
      "False True\n",
      "True\n"
     ]
    }
   ],
   "source": [
    "#não consegue usar palavras reservadas True e False (case sensitive)\n",
    "true, false = False, True\n",
    "print(true, false)\n",
    "print(2 < 3)"
   ]
  },
  {
   "cell_type": "code",
   "execution_count": 17,
   "metadata": {},
   "outputs": [
    {
     "name": "stdout",
     "output_type": "stream",
     "text": [
      "2\n"
     ]
    }
   ],
   "source": [
    "#como ele não passa pelo else, não gera erro\n",
    "x = 2\n",
    "if x == 2:\n",
    "    print(x)\n",
    "else:\n",
    "    print(y)"
   ]
  },
  {
   "cell_type": "code",
   "execution_count": 18,
   "metadata": {},
   "outputs": [
    {
     "ename": "SyntaxError",
     "evalue": "invalid syntax (<ipython-input-18-551d538e06cf>, line 6)",
     "output_type": "error",
     "traceback": [
      "\u001b[0;36m  File \u001b[0;32m\"<ipython-input-18-551d538e06cf>\"\u001b[0;36m, line \u001b[0;32m6\u001b[0m\n\u001b[0;31m    x +\u001b[0m\n\u001b[0m       ^\u001b[0m\n\u001b[0;31mSyntaxError\u001b[0m\u001b[0;31m:\u001b[0m invalid syntax\n"
     ]
    }
   ],
   "source": [
    "x = 2\n",
    "if x == 2:\n",
    "    print(x)\n",
    "else:\n",
    "    #sintaxe inválida ele aponta erro mesmo não executando o else\n",
    "    x +"
   ]
  },
  {
   "cell_type": "code",
   "execution_count": 19,
   "metadata": {},
   "outputs": [
    {
     "name": "stdout",
     "output_type": "stream",
     "text": [
      "[0, 1, [3]]\n",
      "[0, 1, [3, 4]]\n",
      "[0, 1, 2]\n"
     ]
    }
   ],
   "source": [
    "#Utilização de parênteses para execução com python 3\n",
    "x = [0, 1, [2]]\n",
    "x[2][0] = 3\n",
    "print(x)\n",
    "x[2].append(4)\n",
    "print(x)\n",
    "x[2] = 2\n",
    "print(x)"
   ]
  },
  {
   "cell_type": "code",
   "execution_count": null,
   "metadata": {},
   "outputs": [],
   "source": []
  }
 ],
 "metadata": {
  "kernelspec": {
   "display_name": "Python 3",
   "language": "python",
   "name": "python3"
  },
  "language_info": {
   "codemirror_mode": {
    "name": "ipython",
    "version": 3
   },
   "file_extension": ".py",
   "mimetype": "text/x-python",
   "name": "python",
   "nbconvert_exporter": "python",
   "pygments_lexer": "ipython3",
   "version": "3.8.3"
  }
 },
 "nbformat": 4,
 "nbformat_minor": 4
}
